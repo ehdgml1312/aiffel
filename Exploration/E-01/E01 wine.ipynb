{
 "cells": [
  {
   "cell_type": "code",
   "execution_count": 1,
   "id": "7d90b628",
   "metadata": {},
   "outputs": [],
   "source": [
    "import numpy as np\n",
    "from sklearn.datasets import load_wine\n",
    "\n",
    "from sklearn.model_selection import train_test_split\n",
    "\n",
    "from sklearn.tree import DecisionTreeClassifier \n",
    "from sklearn.ensemble import RandomForestClassifier \n",
    "from sklearn import svm\n",
    "from sklearn.linear_model import SGDClassifier\n",
    "from sklearn.linear_model import LogisticRegression \n",
    "\n",
    "from sklearn.metrics import classification_report\n",
    "from sklearn.metrics import recall_score"
   ]
  },
  {
   "cell_type": "code",
   "execution_count": 2,
   "id": "cdf9653f",
   "metadata": {},
   "outputs": [],
   "source": [
    "seed = 7"
   ]
  },
  {
   "cell_type": "code",
   "execution_count": 3,
   "id": "ae939738",
   "metadata": {},
   "outputs": [],
   "source": [
    "wine = load_wine()\n",
    "wine_data = wine.data\n",
    "wine_label = wine.target"
   ]
  },
  {
   "cell_type": "code",
   "execution_count": 4,
   "id": "1cace50f",
   "metadata": {},
   "outputs": [
    {
     "data": {
      "text/plain": [
       "array([59, 71, 48])"
      ]
     },
     "execution_count": 4,
     "metadata": {},
     "output_type": "execute_result"
    }
   ],
   "source": [
    "np.bincount(wine_label)"
   ]
  },
  {
   "cell_type": "code",
   "execution_count": 5,
   "id": "f3174e85",
   "metadata": {},
   "outputs": [],
   "source": [
    "X_train, X_test, y_train, y_test = train_test_split(wine_data, \n",
    "                                                    wine_label, \n",
    "                                                    test_size=0.2, \n",
    "                                                    random_state=seed) "
   ]
  },
  {
   "cell_type": "code",
   "execution_count": 6,
   "id": "24df1b1a",
   "metadata": {},
   "outputs": [
    {
     "data": {
      "text/plain": [
       "((142, 13), (142,), (36, 13), (36,))"
      ]
     },
     "execution_count": 6,
     "metadata": {},
     "output_type": "execute_result"
    }
   ],
   "source": [
    "X_train.shape,  y_train.shape, X_test.shape, y_test.shape"
   ]
  },
  {
   "cell_type": "code",
   "execution_count": 7,
   "id": "3de30157",
   "metadata": {},
   "outputs": [
    {
     "data": {
      "text/plain": [
       "(array([52, 54, 36]), array([ 7, 17, 12]))"
      ]
     },
     "execution_count": 7,
     "metadata": {},
     "output_type": "execute_result"
    }
   ],
   "source": [
    "np.bincount(y_train),np.bincount(y_test)"
   ]
  },
  {
   "cell_type": "code",
   "execution_count": 8,
   "id": "19de5c86",
   "metadata": {},
   "outputs": [
    {
     "name": "stdout",
     "output_type": "stream",
     "text": [
      "              precision    recall  f1-score   support\n",
      "\n",
      "           0       0.88      1.00      0.93         7\n",
      "           1       0.89      0.94      0.91        17\n",
      "           2       1.00      0.83      0.91        12\n",
      "\n",
      "    accuracy                           0.92        36\n",
      "   macro avg       0.92      0.92      0.92        36\n",
      "weighted avg       0.92      0.92      0.92        36\n",
      "\n"
     ]
    }
   ],
   "source": [
    "decision_tree = DecisionTreeClassifier(random_state=seed) \n",
    "decision_tree.fit(X_train, y_train) \n",
    "decision_y = decision_tree.predict(X_test)\n",
    "print(classification_report(y_test, decision_y))"
   ]
  },
  {
   "cell_type": "code",
   "execution_count": 9,
   "id": "2a6f74be",
   "metadata": {},
   "outputs": [
    {
     "name": "stdout",
     "output_type": "stream",
     "text": [
      "              precision    recall  f1-score   support\n",
      "\n",
      "           0       1.00      1.00      1.00         7\n",
      "           1       1.00      1.00      1.00        17\n",
      "           2       1.00      1.00      1.00        12\n",
      "\n",
      "    accuracy                           1.00        36\n",
      "   macro avg       1.00      1.00      1.00        36\n",
      "weighted avg       1.00      1.00      1.00        36\n",
      "\n"
     ]
    }
   ],
   "source": [
    "random_forest = RandomForestClassifier(random_state=seed) \n",
    "random_forest.fit(X_train, y_train)\n",
    "random_y = random_forest.predict(X_test)\n",
    "print(classification_report(y_test, random_y))"
   ]
  },
  {
   "cell_type": "code",
   "execution_count": 10,
   "id": "4127a10b",
   "metadata": {},
   "outputs": [
    {
     "name": "stdout",
     "output_type": "stream",
     "text": [
      "              precision    recall  f1-score   support\n",
      "\n",
      "           0       0.86      0.86      0.86         7\n",
      "           1       0.58      0.88      0.70        17\n",
      "           2       0.33      0.08      0.13        12\n",
      "\n",
      "    accuracy                           0.61        36\n",
      "   macro avg       0.59      0.61      0.56        36\n",
      "weighted avg       0.55      0.61      0.54        36\n",
      "\n"
     ]
    }
   ],
   "source": [
    "svm_model = svm.SVC(random_state=seed,kernel='linear')\n",
    "svm_model = svm.SVC(random_state=seed)\n",
    "\n",
    "svm_model.fit(X_train, y_train) \n",
    "svm_y = svm_model.predict(X_test)\n",
    "print(classification_report(y_test, svm_y))"
   ]
  },
  {
   "cell_type": "code",
   "execution_count": 11,
   "id": "3e61e4cc",
   "metadata": {},
   "outputs": [
    {
     "name": "stdout",
     "output_type": "stream",
     "text": [
      "              precision    recall  f1-score   support\n",
      "\n",
      "           0       0.86      0.86      0.86         7\n",
      "           1       0.85      0.65      0.73        17\n",
      "           2       0.62      0.83      0.71        12\n",
      "\n",
      "    accuracy                           0.75        36\n",
      "   macro avg       0.78      0.78      0.77        36\n",
      "weighted avg       0.77      0.75      0.75        36\n",
      "\n"
     ]
    }
   ],
   "source": [
    "sgd_model = SGDClassifier(random_state=seed)\n",
    "sgd_model.fit(X_train, y_train) \n",
    "sgd_y = sgd_model.predict(X_test)\n",
    "print(classification_report(y_test, sgd_y)) "
   ]
  },
  {
   "cell_type": "code",
   "execution_count": 12,
   "id": "57e09f43",
   "metadata": {},
   "outputs": [
    {
     "name": "stdout",
     "output_type": "stream",
     "text": [
      "              precision    recall  f1-score   support\n",
      "\n",
      "           0       1.00      1.00      1.00         7\n",
      "           1       0.94      1.00      0.97        17\n",
      "           2       1.00      0.92      0.96        12\n",
      "\n",
      "    accuracy                           0.97        36\n",
      "   macro avg       0.98      0.97      0.98        36\n",
      "weighted avg       0.97      0.97      0.97        36\n",
      "\n"
     ]
    }
   ],
   "source": [
    "logistic_model = LogisticRegression(random_state=seed,max_iter=10000)\n",
    "logistic_model.fit(X_train, y_train) \n",
    "log_y = logistic_model.predict(X_test) \n",
    "print(classification_report(y_test, log_y))"
   ]
  },
  {
   "cell_type": "markdown",
   "id": "158cdac8",
   "metadata": {},
   "source": [
    "3개의 클래스의 비율이 균등하지 않기에 accuracy로의 비교는 하지 않는다."
   ]
  },
  {
   "cell_type": "markdown",
   "id": "aa02ec11",
   "metadata": {},
   "source": [
    "하나의 클래스를 찾는게 목표가 아니기 때문에 f1 score로 비교한다"
   ]
  },
  {
   "cell_type": "markdown",
   "id": "d62c6cd2",
   "metadata": {},
   "source": [
    "Random Forest가 1.0으로 가장 높은 f1 score를 달성하였다."
   ]
  },
  {
   "cell_type": "code",
   "execution_count": null,
   "id": "74471314",
   "metadata": {},
   "outputs": [],
   "source": []
  }
 ],
 "metadata": {
  "kernelspec": {
   "display_name": "Python 3 (ipykernel)",
   "language": "python",
   "name": "python3"
  },
  "language_info": {
   "codemirror_mode": {
    "name": "ipython",
    "version": 3
   },
   "file_extension": ".py",
   "mimetype": "text/x-python",
   "name": "python",
   "nbconvert_exporter": "python",
   "pygments_lexer": "ipython3",
   "version": "3.9.7"
  }
 },
 "nbformat": 4,
 "nbformat_minor": 5
}
