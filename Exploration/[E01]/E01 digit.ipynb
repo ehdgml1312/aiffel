{
 "cells": [
  {
   "cell_type": "code",
   "execution_count": 1,
   "id": "974577ed",
   "metadata": {},
   "outputs": [],
   "source": [
    "import numpy as np\n",
    "from sklearn.datasets import load_digits\n",
    "\n",
    "from sklearn.model_selection import train_test_split\n",
    "\n",
    "from sklearn.tree import DecisionTreeClassifier \n",
    "from sklearn.ensemble import RandomForestClassifier \n",
    "from sklearn import svm\n",
    "from sklearn.linear_model import SGDClassifier\n",
    "from sklearn.linear_model import LogisticRegression \n",
    "\n",
    "from sklearn.metrics import classification_report\n",
    "from sklearn.metrics import recall_score"
   ]
  },
  {
   "cell_type": "code",
   "execution_count": 2,
   "id": "a20b988f",
   "metadata": {},
   "outputs": [],
   "source": [
    "seed = 24"
   ]
  },
  {
   "cell_type": "code",
   "execution_count": 3,
   "id": "0d373d26",
   "metadata": {},
   "outputs": [],
   "source": [
    "digits = load_digits()\n",
    "digits_data = digits.data\n",
    "digits_label = digits.target"
   ]
  },
  {
   "cell_type": "code",
   "execution_count": 4,
   "id": "8029715d",
   "metadata": {},
   "outputs": [
    {
     "data": {
      "text/plain": [
       "array([178, 182, 177, 183, 181, 182, 181, 179, 174, 180])"
      ]
     },
     "execution_count": 4,
     "metadata": {},
     "output_type": "execute_result"
    }
   ],
   "source": [
    "np.bincount(digits_label)"
   ]
  },
  {
   "cell_type": "code",
   "execution_count": 26,
   "id": "878f08c7",
   "metadata": {},
   "outputs": [],
   "source": [
    "X_train, X_test, y_train, y_test = train_test_split(digits_data, \n",
    "                                                    digits_label, \n",
    "                                                    test_size=0.2, \n",
    "                                                    random_state=seed) "
   ]
  },
  {
   "cell_type": "code",
   "execution_count": 27,
   "id": "3a31b179",
   "metadata": {},
   "outputs": [
    {
     "data": {
      "text/plain": [
       "((1437, 64), (1437,), (360, 64), (360,))"
      ]
     },
     "execution_count": 27,
     "metadata": {},
     "output_type": "execute_result"
    }
   ],
   "source": [
    "X_train.shape,  y_train.shape, X_test.shape, y_test.shape"
   ]
  },
  {
   "cell_type": "code",
   "execution_count": 28,
   "id": "84299acc",
   "metadata": {},
   "outputs": [
    {
     "name": "stdout",
     "output_type": "stream",
     "text": [
      "              precision    recall  f1-score   support\n",
      "\n",
      "           0       0.94      0.94      0.94        32\n",
      "           1       0.89      0.89      0.89        36\n",
      "           2       0.89      0.84      0.86        38\n",
      "           3       0.85      0.76      0.80        45\n",
      "           4       0.78      0.84      0.81        37\n",
      "           5       0.79      0.91      0.85        33\n",
      "           6       0.95      0.98      0.97        43\n",
      "           7       0.85      0.85      0.85        26\n",
      "           8       0.68      0.78      0.72        27\n",
      "           9       0.86      0.74      0.80        43\n",
      "\n",
      "    accuracy                           0.85       360\n",
      "   macro avg       0.85      0.85      0.85       360\n",
      "weighted avg       0.85      0.85      0.85       360\n",
      "\n"
     ]
    }
   ],
   "source": [
    "decision_tree = DecisionTreeClassifier(random_state=seed) \n",
    "decision_tree.fit(X_train, y_train) \n",
    "decision_y = decision_tree.predict(X_test)\n",
    "print(classification_report(y_test, decision_y))"
   ]
  },
  {
   "cell_type": "code",
   "execution_count": 29,
   "id": "ba05bc62",
   "metadata": {},
   "outputs": [
    {
     "name": "stdout",
     "output_type": "stream",
     "text": [
      "              precision    recall  f1-score   support\n",
      "\n",
      "           0       1.00      1.00      1.00        32\n",
      "           1       0.97      1.00      0.99        36\n",
      "           2       1.00      1.00      1.00        38\n",
      "           3       1.00      0.93      0.97        45\n",
      "           4       1.00      1.00      1.00        37\n",
      "           5       0.92      1.00      0.96        33\n",
      "           6       1.00      1.00      1.00        43\n",
      "           7       0.93      1.00      0.96        26\n",
      "           8       0.96      0.93      0.94        27\n",
      "           9       0.98      0.93      0.95        43\n",
      "\n",
      "    accuracy                           0.98       360\n",
      "   macro avg       0.98      0.98      0.98       360\n",
      "weighted avg       0.98      0.98      0.98       360\n",
      "\n"
     ]
    }
   ],
   "source": [
    "random_forest = RandomForestClassifier(random_state=seed) \n",
    "random_forest.fit(X_train, y_train)\n",
    "random_y = random_forest.predict(X_test)\n",
    "print(classification_report(y_test, random_y))"
   ]
  },
  {
   "cell_type": "code",
   "execution_count": 30,
   "id": "408bcf33",
   "metadata": {},
   "outputs": [
    {
     "name": "stdout",
     "output_type": "stream",
     "text": [
      "              precision    recall  f1-score   support\n",
      "\n",
      "           0       1.00      1.00      1.00        32\n",
      "           1       0.97      1.00      0.99        36\n",
      "           2       1.00      1.00      1.00        38\n",
      "           3       1.00      0.96      0.98        45\n",
      "           4       1.00      0.97      0.99        37\n",
      "           5       0.92      1.00      0.96        33\n",
      "           6       1.00      1.00      1.00        43\n",
      "           7       1.00      1.00      1.00        26\n",
      "           8       0.96      0.96      0.96        27\n",
      "           9       1.00      0.98      0.99        43\n",
      "\n",
      "    accuracy                           0.99       360\n",
      "   macro avg       0.99      0.99      0.99       360\n",
      "weighted avg       0.99      0.99      0.99       360\n",
      "\n"
     ]
    }
   ],
   "source": [
    "svm_model = svm.SVC(random_state=seed,kernel='linear')\n",
    "svm_model = svm.SVC(random_state=seed)\n",
    "svm_model.fit(X_train, y_train) \n",
    "svm_y = svm_model.predict(X_test)\n",
    "print(classification_report(y_test, svm_y))"
   ]
  },
  {
   "cell_type": "code",
   "execution_count": 32,
   "id": "4f3eb807",
   "metadata": {
    "scrolled": true
   },
   "outputs": [
    {
     "name": "stdout",
     "output_type": "stream",
     "text": [
      "              precision    recall  f1-score   support\n",
      "\n",
      "           0       1.00      1.00      1.00        32\n",
      "           1       0.83      0.97      0.90        36\n",
      "           2       1.00      0.97      0.99        38\n",
      "           3       0.90      0.96      0.92        45\n",
      "           4       1.00      0.95      0.97        37\n",
      "           5       0.94      0.91      0.92        33\n",
      "           6       0.98      1.00      0.99        43\n",
      "           7       0.96      1.00      0.98        26\n",
      "           8       0.93      0.93      0.93        27\n",
      "           9       1.00      0.84      0.91        43\n",
      "\n",
      "    accuracy                           0.95       360\n",
      "   macro avg       0.95      0.95      0.95       360\n",
      "weighted avg       0.95      0.95      0.95       360\n",
      "\n"
     ]
    }
   ],
   "source": [
    "sgd_model = SGDClassifier(random_state=seed)\n",
    "sgd_model.fit(X_train, y_train) \n",
    "sgd_y = sgd_model.predict(X_test)\n",
    "print(classification_report(y_test, sgd_y)) "
   ]
  },
  {
   "cell_type": "code",
   "execution_count": 11,
   "id": "29277bb2",
   "metadata": {},
   "outputs": [
    {
     "name": "stdout",
     "output_type": "stream",
     "text": [
      "              precision    recall  f1-score   support\n",
      "\n",
      "           0       1.00      1.00      1.00        32\n",
      "           1       0.97      1.00      0.99        36\n",
      "           2       1.00      1.00      1.00        38\n",
      "           3       0.93      0.96      0.95        45\n",
      "           4       1.00      1.00      1.00        37\n",
      "           5       0.94      0.94      0.94        33\n",
      "           6       1.00      1.00      1.00        43\n",
      "           7       0.96      1.00      0.98        26\n",
      "           8       1.00      0.93      0.96        27\n",
      "           9       0.98      0.95      0.96        43\n",
      "\n",
      "    accuracy                           0.98       360\n",
      "   macro avg       0.98      0.98      0.98       360\n",
      "weighted avg       0.98      0.98      0.98       360\n",
      "\n"
     ]
    }
   ],
   "source": [
    "logistic_model = LogisticRegression(random_state=seed,max_iter=10000)\n",
    "logistic_model.fit(X_train, y_train) \n",
    "log_y = logistic_model.predict(X_test) \n",
    "print(classification_report(y_test, log_y))"
   ]
  },
  {
   "cell_type": "markdown",
   "id": "550e239c",
   "metadata": {},
   "source": [
    "10개의 target들이 비율이 균등하다"
   ]
  },
  {
   "cell_type": "markdown",
   "id": "66dc7099",
   "metadata": {},
   "source": [
    "precision,recall,f1-score,accuracy의 값들이 동일함을 확인하였다."
   ]
  },
  {
   "cell_type": "markdown",
   "id": "8eaa1d20",
   "metadata": {},
   "source": [
    "0.99의 성능을 보인 SVM이 최적의 모델이다."
   ]
  },
  {
   "cell_type": "code",
   "execution_count": null,
   "id": "aba90a51",
   "metadata": {},
   "outputs": [],
   "source": []
  }
 ],
 "metadata": {
  "kernelspec": {
   "display_name": "Python 3 (ipykernel)",
   "language": "python",
   "name": "python3"
  },
  "language_info": {
   "codemirror_mode": {
    "name": "ipython",
    "version": 3
   },
   "file_extension": ".py",
   "mimetype": "text/x-python",
   "name": "python",
   "nbconvert_exporter": "python",
   "pygments_lexer": "ipython3",
   "version": "3.9.7"
  }
 },
 "nbformat": 4,
 "nbformat_minor": 5
}
