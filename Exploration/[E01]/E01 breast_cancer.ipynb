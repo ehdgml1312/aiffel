{
 "cells": [
  {
   "cell_type": "code",
   "execution_count": 1,
   "id": "c76ad970",
   "metadata": {},
   "outputs": [],
   "source": [
    "import numpy as np\n",
    "from sklearn.datasets import load_breast_cancer\n",
    "\n",
    "from sklearn.model_selection import train_test_split\n",
    "\n",
    "from sklearn.tree import DecisionTreeClassifier \n",
    "from sklearn.ensemble import RandomForestClassifier \n",
    "from sklearn import svm\n",
    "from sklearn.linear_model import SGDClassifier\n",
    "from sklearn.linear_model import LogisticRegression \n",
    "\n",
    "from sklearn.metrics import classification_report\n",
    "from sklearn.metrics import recall_score"
   ]
  },
  {
   "cell_type": "code",
   "execution_count": null,
   "id": "04bbbc90",
   "metadata": {},
   "outputs": [],
   "source": []
  },
  {
   "cell_type": "code",
   "execution_count": 2,
   "id": "9a35938f",
   "metadata": {},
   "outputs": [],
   "source": [
    "seed = 42"
   ]
  },
  {
   "cell_type": "code",
   "execution_count": 3,
   "id": "53bae373",
   "metadata": {},
   "outputs": [],
   "source": [
    "cancer = load_breast_cancer()\n",
    "cancer_data = cancer.data\n",
    "cancer_label = cancer.target"
   ]
  },
  {
   "cell_type": "code",
   "execution_count": 16,
   "id": "2b4ef06a",
   "metadata": {},
   "outputs": [
    {
     "data": {
      "text/plain": [
       "array(['malignant', 'benign'], dtype='<U9')"
      ]
     },
     "execution_count": 16,
     "metadata": {},
     "output_type": "execute_result"
    }
   ],
   "source": [
    "cancer.target_names"
   ]
  },
  {
   "cell_type": "markdown",
   "id": "7bfdbf23",
   "metadata": {},
   "source": [
    "malignant : 악성, \n",
    "benign : 양성"
   ]
  },
  {
   "cell_type": "code",
   "execution_count": 4,
   "id": "b8984ce1",
   "metadata": {},
   "outputs": [
    {
     "data": {
      "text/plain": [
       "array([212, 357])"
      ]
     },
     "execution_count": 4,
     "metadata": {},
     "output_type": "execute_result"
    }
   ],
   "source": [
    "np.bincount(cancer_label)"
   ]
  },
  {
   "cell_type": "code",
   "execution_count": 5,
   "id": "42661b19",
   "metadata": {},
   "outputs": [],
   "source": [
    "X_train, X_test, y_train, y_test = train_test_split(cancer_data, \n",
    "                                                    cancer_label, \n",
    "                                                    test_size=0.2, \n",
    "                                                    random_state=seed) "
   ]
  },
  {
   "cell_type": "code",
   "execution_count": 6,
   "id": "a57d3f66",
   "metadata": {},
   "outputs": [
    {
     "data": {
      "text/plain": [
       "((455, 30), (455,), (114, 30), (114,))"
      ]
     },
     "execution_count": 6,
     "metadata": {},
     "output_type": "execute_result"
    }
   ],
   "source": [
    "X_train.shape,  y_train.shape, X_test.shape, y_test.shape"
   ]
  },
  {
   "cell_type": "code",
   "execution_count": 7,
   "id": "582cedd9",
   "metadata": {},
   "outputs": [
    {
     "data": {
      "text/plain": [
       "(array([169, 286]), array([43, 71]))"
      ]
     },
     "execution_count": 7,
     "metadata": {},
     "output_type": "execute_result"
    }
   ],
   "source": [
    "np.bincount(y_train),np.bincount(y_test)"
   ]
  },
  {
   "cell_type": "code",
   "execution_count": 8,
   "id": "eb9ed19b",
   "metadata": {},
   "outputs": [
    {
     "name": "stdout",
     "output_type": "stream",
     "text": [
      "              precision    recall  f1-score   support\n",
      "\n",
      "           0       0.93      0.93      0.93        43\n",
      "           1       0.96      0.96      0.96        71\n",
      "\n",
      "    accuracy                           0.95       114\n",
      "   macro avg       0.94      0.94      0.94       114\n",
      "weighted avg       0.95      0.95      0.95       114\n",
      "\n"
     ]
    }
   ],
   "source": [
    "decision_tree = DecisionTreeClassifier(random_state=seed) \n",
    "decision_tree.fit(X_train, y_train) \n",
    "decision_y = decision_tree.predict(X_test)\n",
    "print(classification_report(y_test, decision_y))"
   ]
  },
  {
   "cell_type": "code",
   "execution_count": 9,
   "id": "ac8b6dd6",
   "metadata": {},
   "outputs": [
    {
     "name": "stdout",
     "output_type": "stream",
     "text": [
      "              precision    recall  f1-score   support\n",
      "\n",
      "           0       0.98      0.93      0.95        43\n",
      "           1       0.96      0.99      0.97        71\n",
      "\n",
      "    accuracy                           0.96       114\n",
      "   macro avg       0.97      0.96      0.96       114\n",
      "weighted avg       0.97      0.96      0.96       114\n",
      "\n"
     ]
    }
   ],
   "source": [
    "random_forest = RandomForestClassifier(random_state=seed) \n",
    "random_forest.fit(X_train, y_train)\n",
    "random_y = random_forest.predict(X_test)\n",
    "print(classification_report(y_test, random_y))"
   ]
  },
  {
   "cell_type": "code",
   "execution_count": 10,
   "id": "01ac4b48",
   "metadata": {},
   "outputs": [
    {
     "name": "stdout",
     "output_type": "stream",
     "text": [
      "              precision    recall  f1-score   support\n",
      "\n",
      "           0       1.00      0.86      0.92        43\n",
      "           1       0.92      1.00      0.96        71\n",
      "\n",
      "    accuracy                           0.95       114\n",
      "   macro avg       0.96      0.93      0.94       114\n",
      "weighted avg       0.95      0.95      0.95       114\n",
      "\n"
     ]
    }
   ],
   "source": [
    "svm_model = svm.SVC(random_state=seed,kernel='linear')\n",
    "svm_model = svm.SVC(random_state=seed)\n",
    "\n",
    "svm_model.fit(X_train, y_train) \n",
    "svm_y = svm_model.predict(X_test)\n",
    "print(classification_report(y_test, svm_y))"
   ]
  },
  {
   "cell_type": "code",
   "execution_count": 11,
   "id": "8d0a3469",
   "metadata": {},
   "outputs": [
    {
     "name": "stdout",
     "output_type": "stream",
     "text": [
      "              precision    recall  f1-score   support\n",
      "\n",
      "           0       1.00      0.74      0.85        43\n",
      "           1       0.87      1.00      0.93        71\n",
      "\n",
      "    accuracy                           0.90       114\n",
      "   macro avg       0.93      0.87      0.89       114\n",
      "weighted avg       0.92      0.90      0.90       114\n",
      "\n"
     ]
    }
   ],
   "source": [
    "sgd_model = SGDClassifier(random_state=seed)\n",
    "sgd_model.fit(X_train, y_train) \n",
    "sgd_y = sgd_model.predict(X_test)\n",
    "print(classification_report(y_test, sgd_y)) "
   ]
  },
  {
   "cell_type": "code",
   "execution_count": 12,
   "id": "1eca6d9a",
   "metadata": {},
   "outputs": [
    {
     "name": "stdout",
     "output_type": "stream",
     "text": [
      "              precision    recall  f1-score   support\n",
      "\n",
      "           0       0.97      0.91      0.94        43\n",
      "           1       0.95      0.99      0.97        71\n",
      "\n",
      "    accuracy                           0.96       114\n",
      "   macro avg       0.96      0.95      0.95       114\n",
      "weighted avg       0.96      0.96      0.96       114\n",
      "\n"
     ]
    }
   ],
   "source": [
    "logistic_model = LogisticRegression(random_state=seed,max_iter=10000)\n",
    "logistic_model.fit(X_train, y_train) \n",
    "log_y = logistic_model.predict(X_test) \n",
    "print(classification_report(y_test, log_y))"
   ]
  },
  {
   "cell_type": "markdown",
   "id": "afc6c578",
   "metadata": {},
   "source": [
    "malignant(악성)와 benign(양성)의 비율이 약 37:63 이어서 각 평가 지표들의 weighted avg를 사용하였다."
   ]
  },
  {
   "cell_type": "markdown",
   "id": "14e64dd5",
   "metadata": {},
   "source": [
    "암 진단에서 악성(0)을 양성(1)로 예측하면 안되기에 precision이 가장 중요한 평가 지표이다."
   ]
  },
  {
   "cell_type": "markdown",
   "id": "8746cb17",
   "metadata": {},
   "source": [
    "Random Forest가 0.97의 precision으로 가장 높은 성능을 보였고, \n",
    "\n",
    "Random Forest와 Logistic Regression이 f1-score와 recall에서 0.96으로 가장 높은 성능을 보였다."
   ]
  },
  {
   "cell_type": "markdown",
   "id": "3193ae5c",
   "metadata": {},
   "source": [
    "Random Forest가 최적이 모델이다."
   ]
  },
  {
   "cell_type": "code",
   "execution_count": null,
   "id": "d657261e",
   "metadata": {},
   "outputs": [],
   "source": []
  }
 ],
 "metadata": {
  "kernelspec": {
   "display_name": "Python 3 (ipykernel)",
   "language": "python",
   "name": "python3"
  },
  "language_info": {
   "codemirror_mode": {
    "name": "ipython",
    "version": 3
   },
   "file_extension": ".py",
   "mimetype": "text/x-python",
   "name": "python",
   "nbconvert_exporter": "python",
   "pygments_lexer": "ipython3",
   "version": "3.9.7"
  }
 },
 "nbformat": 4,
 "nbformat_minor": 5
}
